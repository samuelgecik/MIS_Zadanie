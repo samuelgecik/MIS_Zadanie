{
  "cells": [
    {
      "cell_type": "code",
      "execution_count": 99,
      "metadata": {
        "id": "npFemIWusYQi"
      },
      "outputs": [],
      "source": [
        "import numpy as np"
      ]
    },
    {
      "cell_type": "code",
      "execution_count": 100,
      "metadata": {
        "id": "oTrTMpTwtLXd"
      },
      "outputs": [],
      "source": [
        "class FullyConnectedLayer:\n",
        "    def __init__(self, input_size, output_size):\n",
        "        self.input_size = input_size\n",
        "        self.output_size = output_size\n",
        "        self.weights = np.random.randn(input_size, output_size)\n",
        "        self.bias = np.random.randn(1, output_size)\n",
        "\n",
        "    def forward(self, input):\n",
        "        self.input = input\n",
        "        return np.dot(input, self.weights) + self.bias\n",
        "\n",
        "    def backward(self, output_error, learning_rate):\n",
        "        input_error = np.dot(output_error, self.weights.T)\n",
        "        weights_error = np.dot(self.input.T, output_error)        \n",
        "        self.weights -= learning_rate * weights_error\n",
        "        self.bias -= learning_rate * output_error\n",
        "        return input_error"
      ]
    },
    {
      "cell_type": "code",
      "execution_count": 101,
      "metadata": {
        "id": "E6nSYAB2sam3"
      },
      "outputs": [],
      "source": [
        "class ActivationLayer:\n",
        "    def __init__(self, activation, activation_derivative):\n",
        "        self.activation = activation\n",
        "        self.activation_derivative = activation_derivative\n",
        "    \n",
        "    def forward(self, input):\n",
        "        self.input = input\n",
        "        return self.activation(input)\n",
        "    \n",
        "    def backward(self, output_error, learning_rate):\n",
        "        return output_error * self.activation_derivative(self.input)"
      ]
    },
    {
      "cell_type": "code",
      "execution_count": 102,
      "metadata": {
        "id": "RQeuIfkK3vyl"
      },
      "outputs": [],
      "source": [
        "class SoftmaxLayer:\n",
        "    def __init__(self, input_size):\n",
        "        self.input_size = input_size\n",
        "    \n",
        "    def forward(self, input):\n",
        "        self.input = input\n",
        "        tmp = np.exp(input)\n",
        "        self.output = tmp / np.sum(tmp)\n",
        "        return self.output\n",
        "    \n",
        "    def backward(self, output_error, learning_rate):\n",
        "        input_error = np.zeros(output_error.shape)\n",
        "        out = np.tile(self.output.T, self.input_size)\n",
        "        return self.output * np.dot(output_error, np.identity(self.input_size) - out)"
      ]
    },
    {
      "cell_type": "code",
      "execution_count": 103,
      "metadata": {
        "id": "rXY7jkUzuqEk"
      },
      "outputs": [],
      "source": [
        "def relu(x):\n",
        "    return np.maximum(x, 0)\n",
        "\n",
        "def relu_derivative(x):\n",
        "    return np.array(x >= 0).astype('int')\n",
        "    \n",
        "def mse(y_true, y_pred):\n",
        "    return np.mean(np.power(y_true - y_pred, 2))\n",
        "\n",
        "def mse_derivative(y_true, y_pred):\n",
        "    return 2 * (y_pred - y_true) / y_pred.size"
      ]
    },
    {
      "cell_type": "code",
      "execution_count": 104,
      "metadata": {},
      "outputs": [],
      "source": [
        "class FlattenLayer:\n",
        "    def __init__(self, input_shape):\n",
        "        self.input_shape = input_shape\n",
        "\n",
        "    def forward(self, input):\n",
        "        return np.reshape(input, (1, -1))\n",
        "    \n",
        "    def backward(self, output_error, learning_rate):\n",
        "        return np.reshape(output_error, self.input_shape)"
      ]
    },
    {
      "cell_type": "code",
      "execution_count": 105,
      "metadata": {
        "colab": {
          "base_uri": "https://localhost:8080/",
          "height": 51
        },
        "id": "-whGNp8Joaur",
        "outputId": "23690d5d-f451-4fd3-b87a-d5c416ac2d0b"
      },
      "outputs": [
        {
          "name": "stdout",
          "output_type": "stream",
          "text": [
            "(1000, 28, 28)\n",
            "(1000, 10)\n"
          ]
        },
        {
          "data": {
            "text/plain": [
              "array([0., 0., 0., 0., 0., 1., 0., 0., 0., 0.])"
            ]
          },
          "execution_count": 105,
          "metadata": {},
          "output_type": "execute_result"
        }
      ],
      "source": [
        "from torchvision.datasets import MNIST\n",
        "\n",
        "train_set = MNIST('./data', train=True, download=True)\n",
        "# test_set = MNIST('./data', train=False, download=True)\n",
        "\n",
        "x_train = train_set.data.numpy().astype('float32')[:1000]\n",
        "x_train /= 255\n",
        "y_train = train_set.targets.numpy()[:1000]\n",
        "y_train = np.eye(10)[y_train]\n",
        "\n",
        "print(x_train.data.shape)\n",
        "print(y_train.data.shape)\n",
        "y_train[0]"
      ]
    },
    {
      "cell_type": "code",
      "execution_count": 106,
      "metadata": {
        "colab": {
          "base_uri": "https://localhost:8080/",
          "height": 697
        },
        "id": "oHQpwN8LpKiN",
        "outputId": "fa9f4eba-3613-4f66-86f3-abac42dccb39"
      },
      "outputs": [
        {
          "name": "stdout",
          "output_type": "stream",
          "text": [
            "1/20, loss = 0.182565\n",
            "2/20, loss = 0.180366\n",
            "3/20, loss = 0.175035\n",
            "4/20, loss = 0.169103\n",
            "5/20, loss = 0.170147\n",
            "6/20, loss = 0.167460\n",
            "7/20, loss = 0.170285\n",
            "8/20, loss = 0.162038\n",
            "9/20, loss = 0.159860\n",
            "10/20, loss = 0.158608\n",
            "11/20, loss = 0.160182\n",
            "12/20, loss = 0.161191\n",
            "13/20, loss = 0.161968\n",
            "14/20, loss = 0.162636\n",
            "15/20, loss = 0.160150\n",
            "16/20, loss = 0.161616\n",
            "17/20, loss = 0.160992\n",
            "18/20, loss = 0.158234\n",
            "19/20, loss = 0.159096\n",
            "20/20, loss = 0.157278\n"
          ]
        }
      ],
      "source": [
        "network = [\n",
        "    FlattenLayer((28, 28)),\n",
        "    FullyConnectedLayer(28 * 28, 128),\n",
        "    ActivationLayer(relu, relu_derivative),\n",
        "    FullyConnectedLayer(128, 10),\n",
        "    ActivationLayer(relu, relu_derivative),\n",
        "    SoftmaxLayer(10)\n",
        "]\n",
        "\n",
        "epochs = 20\n",
        "learning_rate = 0.1\n",
        "\n",
        "mses = []\n",
        "\n",
        "# training\n",
        "for epoch in range(epochs):\n",
        "    error = 0\n",
        "    for x, y_true in zip(x_train, y_train):\n",
        "        # forward\n",
        "        output = x\n",
        "        for layer in network:\n",
        "            output = layer.forward(output)\n",
        "        \n",
        "        # error (display purpose only)\n",
        "        error += mse(y_true, output)\n",
        "\n",
        "        # backward\n",
        "        output_error = mse_derivative(y_true, output)\n",
        "        for layer in reversed(network):\n",
        "            output_error = layer.backward(output_error, learning_rate)\n",
        "    \n",
        "    error /= len(x_train)\n",
        "    mses.append(error)\n",
        "    \n",
        "    print('%d/%d, loss = %f' % (epoch + 1, epochs, error))"
      ]
    },
    {
      "cell_type": "code",
      "execution_count": 107,
      "metadata": {},
      "outputs": [
        {
          "data": {
            "text/plain": [
              "[0.1825654709472266,\n",
              " 0.18036629315542535,\n",
              " 0.17503539064125404,\n",
              " 0.16910266397340842,\n",
              " 0.17014686652257122,\n",
              " 0.1674604339588156,\n",
              " 0.17028534243357404,\n",
              " 0.16203793658501117,\n",
              " 0.15985968884325846,\n",
              " 0.15860803191851425,\n",
              " 0.16018150031707518,\n",
              " 0.161191382842755,\n",
              " 0.16196840467057716,\n",
              " 0.16263640857203673,\n",
              " 0.1601501592445849,\n",
              " 0.1616155135414189,\n",
              " 0.16099199522738783,\n",
              " 0.15823428566063513,\n",
              " 0.15909623429029285,\n",
              " 0.1572776940912526]"
            ]
          },
          "execution_count": 107,
          "metadata": {},
          "output_type": "execute_result"
        }
      ],
      "source": [
        "mses"
      ]
    },
    {
      "cell_type": "code",
      "execution_count": 108,
      "metadata": {},
      "outputs": [
        {
          "data": {
            "image/png": "[encoded data removed]",
            "text/plain": [
              "<Figure size 640x480 with 1 Axes>"
            ]
          },
          "metadata": {},
          "output_type": "display_data"
        }
      ],
      "source": [
        "# visualization of training loss\n",
        "import matplotlib.pyplot as plt\n",
        "\n",
        "plt.plot(range(len(mses)), mses)\n",
        "plt.xlabel('Epoch')\n",
        "plt.ylabel('Mean Squared Error')\n",
        "plt.show()"
      ]
    }
  ],
  "metadata": {
    "colab": {
      "provenance": []
    },
    "kernelspec": {
      "display_name": ".env",
      "language": "python",
      "name": "python3"
    },
    "language_info": {
      "codemirror_mode": {
        "name": "ipython",
        "version": 3
      },
      "file_extension": ".py",
      "mimetype": "text/x-python",
      "name": "python",
      "nbconvert_exporter": "python",
      "pygments_lexer": "ipython3",
      "version": "3.10.8"
    },
    "vscode": {
      "interpreter": {
        "hash": "722287dc6c58b18c0cadc971d5ae36a8a88e3547fa03bc3146c5efa473cb323a"
      }
    }
  },
  "nbformat": 4,
  "nbformat_minor": 0
}
